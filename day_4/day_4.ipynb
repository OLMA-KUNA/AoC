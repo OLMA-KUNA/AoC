{
 "cells": [
  {
   "cell_type": "code",
   "execution_count": 138,
   "metadata": {},
   "outputs": [],
   "source": [
    "file = open('day_4_input.txt')"
   ]
  },
  {
   "cell_type": "code",
   "execution_count": 139,
   "metadata": {},
   "outputs": [],
   "source": [
    "def passport_validator(list2):\n",
    "    list1 = ['byr','iyr','eyr','hgt','hcl','ecl','pid']\n",
    "    check =  all(item in list2 for item in list1)\n",
    "    return check\n"
   ]
  },
  {
   "cell_type": "code",
   "execution_count": 140,
   "metadata": {},
   "outputs": [],
   "source": [
    "def passport_validator_cooler(list2):\n",
    "    for ele in list2:\n",
    "        if(ele[:3]== 'byr'):\n",
    "            if int(ele[4:])>2002 or int(ele[4:])<1920:\n",
    "                return False\n",
    "        if(ele[:3] == 'iyr'):\n",
    "             if int(ele[4:])>2020 or int(ele[4:])<2010:\n",
    "                return False\n",
    "        if(ele[:3] == 'eyr'):\n",
    "             if int(ele[4:])>2030 or int(ele[4:])<2020:\n",
    "                return False \n",
    "        if(ele[:3] == 'hgt'):\n",
    "            if ele[-2:] == 'cm':\n",
    "                if int(ele[4:-2])>196 or int(ele[4:-2])<150:\n",
    "                    return False\n",
    "            elif ele[-2:] == 'in':\n",
    "                if int(ele[4:-2])>76 or int(ele[4:-2])<59:\n",
    "                    return False \n",
    "            else:\n",
    "                return False\n",
    "        if(ele[:3] == 'hcl'):\n",
    "            if ele[4] != '#' or len(ele[5:]) != 6:\n",
    "                return False\n",
    "            for ii in ele[5:]:\n",
    "                if not ((ii >= '0' and ii <= '9') or (ii >= 'a' or ii <= 'f')):\n",
    "                    return False\n",
    "        if (ele[:3] == 'ecl'):\n",
    "            if ele[4:] not in ['amb', 'blu', 'brn', 'gry', 'grn', 'hzl', 'oth']:\n",
    "                return False\n",
    "        if (ele[:3] == 'pid'):\n",
    "            if len(ele[4:]) != 9 or not (ele[4:].isdigit()):\n",
    "                return False\n",
    "    return True\n",
    "                "
   ]
  },
  {
   "cell_type": "code",
   "execution_count": 141,
   "metadata": {},
   "outputs": [
    {
     "name": "stdout",
     "output_type": "stream",
     "text": [
      "198\n"
     ]
    }
   ],
   "source": [
    "passport = []\n",
    "pass_complete = []\n",
    "passport_valid_counter = 0\n",
    "for line in file: \n",
    "    if line.strip():\n",
    "        for word in line.split():\n",
    "            passport.append(word[:3])\n",
    "            pass_complete.append(word)\n",
    "    else:\n",
    "        if passport_validator(passport):\n",
    "            if passport_validator_cooler(pass_complete):\n",
    "                passport_valid_counter += 1          \n",
    "        passport = []\n",
    "        pass_complete =[]\n",
    "print(passport_valid_counter)"
   ]
  },
  {
   "cell_type": "code",
   "execution_count": 142,
   "metadata": {},
   "outputs": [],
   "source": [
    "# Solution to task 1: 256\n",
    "# Solution to task 2: 198"
   ]
  }
 ],
 "metadata": {
  "kernelspec": {
   "display_name": "Python 3",
   "language": "python",
   "name": "python3"
  },
  "language_info": {
   "codemirror_mode": {
    "name": "ipython",
    "version": 3
   },
   "file_extension": ".py",
   "mimetype": "text/x-python",
   "name": "python",
   "nbconvert_exporter": "python",
   "pygments_lexer": "ipython3",
   "version": "3.7.3"
  }
 },
 "nbformat": 4,
 "nbformat_minor": 2
}

{
 "cells": [
  {
   "cell_type": "code",
   "execution_count": 18,
   "metadata": {},
   "outputs": [],
   "source": [
    "import re\n",
    "file = open('day_7_input.txt')"
   ]
  },
  {
   "cell_type": "code",
   "execution_count": 10,
   "metadata": {},
   "outputs": [],
   "source": [
    "class Bag:\n",
    "    \n",
    "    def __init__(self, value):\n",
    "        self.value = value\n",
    "        self.children = []"
   ]
  },
  {
   "cell_type": "code",
   "execution_count": 71,
   "metadata": {},
   "outputs": [],
   "source": [
    "file = open('day_7_input.txt')\n",
    "\n",
    "# Text parsen\n",
    "bags_list = []\n",
    "for line in file:\n",
    "    x = line.split(\" bags contain \")\n",
    "    bag = Bag(x[0])\n",
    "    bags_list.append(bag)\n",
    "    j = re.split(r'\\d', x[1])\n",
    "    del j[0]\n",
    "    for elem in j:\n",
    "        val = elem.split(' bag')\n",
    "        bag.children.append(val[0].strip())\n",
    "        "
   ]
  },
  {
   "cell_type": "code",
   "execution_count": 69,
   "metadata": {},
   "outputs": [],
   "source": [
    "def find_gold(bags_list,list_to_find):\n",
    "    baglist_len = len(bags_list)\n",
    "    for search_ele in list_to_find:\n",
    "        for ele in bags_list:\n",
    "            if search_ele.value in ele.children:\n",
    "                list_to_find.append(ele)\n",
    "                bags_list.remove(ele)\n",
    "    if(len(bags_list)!=baglist_len):\n",
    "        return find_gold(bags_list, list_to_find)\n",
    "    else:\n",
    "        return list_to_find\n",
    "        "
   ]
  },
  {
   "cell_type": "code",
   "execution_count": 72,
   "metadata": {},
   "outputs": [
    {
     "name": "stdout",
     "output_type": "stream",
     "text": [
      "303\n"
     ]
    }
   ],
   "source": [
    "list_to_find = [Bag(\"shiny gold\")]\n",
    "answer = find_gold(bags_list, list_to_find)\n",
    "print(len(answer))"
   ]
  },
  {
   "cell_type": "code",
   "execution_count": null,
   "metadata": {},
   "outputs": [],
   "source": [
    "# Solutions to the first question: 302"
   ]
  }
 ],
 "metadata": {
  "kernelspec": {
   "display_name": "Python 3",
   "language": "python",
   "name": "python3"
  },
  "language_info": {
   "codemirror_mode": {
    "name": "ipython",
    "version": 3
   },
   "file_extension": ".py",
   "mimetype": "text/x-python",
   "name": "python",
   "nbconvert_exporter": "python",
   "pygments_lexer": "ipython3",
   "version": "3.7.3"
  }
 },
 "nbformat": 4,
 "nbformat_minor": 2
}

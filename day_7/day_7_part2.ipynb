{
 "cells": [
  {
   "cell_type": "code",
   "execution_count": 18,
   "metadata": {},
   "outputs": [
    {
     "name": "stdout",
     "output_type": "stream",
     "text": [
      "4166\n"
     ]
    }
   ],
   "source": [
    "import re\n",
    "\n",
    "class Bag:\n",
    "    \n",
    "    def __init__(self, value):\n",
    "        self.value = value\n",
    "        self.children = []\n",
    "\n",
    "class Child_bag:\n",
    "    def __init__(self, value, name):\n",
    "        self.count = value\n",
    "        self.name = name\n",
    "\n",
    "def Gold_contains(bag_list, gold_bag):\n",
    "    bags_found_number = 1\n",
    "    for child in gold_bag.children:\n",
    "        bags_found_number += child.count* Gold_contains(bag_list, Find_bag(bag_list, child.name))\n",
    "    return bags_found_number\n",
    "\n",
    "def Find_bag(bag_list, name):\n",
    "    for ele in bag_list:\n",
    "        if (ele.value == name):\n",
    "            return ele\n",
    "\n",
    "file = open('day_7_input.txt') \n",
    "\n",
    "# Text parsen\n",
    "bags_list = []\n",
    "for line in file:\n",
    "    x = line.split(\" bags contain \")\n",
    "    bag = Bag(x[0])\n",
    "    bags_list.append(bag)\n",
    "    j = re.split(\", \", x[1])\n",
    "    \n",
    "    for elem in j:\n",
    "        try:\n",
    "            value = int(elem[:2].strip())\n",
    "        except:\n",
    "            break\n",
    "        name = (elem[2:].split(' bag'))[0].strip()\n",
    "        bag.children.append(Child_bag(value,name))\n",
    "\n",
    "gold_bag = Find_bag(bags_list, \"shiny gold\")\n",
    "answer = Gold_contains(bags_list, gold_bag)\n",
    "print(answer)        "
   ]
  },
  {
   "cell_type": "code",
   "execution_count": null,
   "metadata": {},
   "outputs": [],
   "source": [
    "# Solution to the second question: 4165"
   ]
  }
 ],
 "metadata": {
  "kernelspec": {
   "display_name": "Python 3",
   "language": "python",
   "name": "python3"
  },
  "language_info": {
   "codemirror_mode": {
    "name": "ipython",
    "version": 3
   },
   "file_extension": ".py",
   "mimetype": "text/x-python",
   "name": "python",
   "nbconvert_exporter": "python",
   "pygments_lexer": "ipython3",
   "version": "3.7.3"
  }
 },
 "nbformat": 4,
 "nbformat_minor": 2
}

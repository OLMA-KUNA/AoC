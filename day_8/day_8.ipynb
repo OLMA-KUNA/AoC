{
 "cells": [
  {
   "cell_type": "code",
   "execution_count": 10,
   "metadata": {},
   "outputs": [
    {
     "name": "stdout",
     "output_type": "stream",
     "text": [
      "1420\n"
     ]
    }
   ],
   "source": [
    "file = open('day_8_input.txt')\n",
    "\n",
    "commands = []\n",
    "\n",
    "class Instruction:\n",
    "    def __init__(self, name, value):\n",
    "        self.name = name\n",
    "        self.value = value\n",
    "        self.visited = False\n",
    "\n",
    "for line in file:\n",
    "    a = line.split()\n",
    "    commands.append(Instruction(a[0], int(a[1])))\n",
    "\n",
    "count = 0\n",
    "result = 0\n",
    "while (commands[count].visited != True):\n",
    "    commands[count].visited = True\n",
    "    if commands[count].name == \"acc\":\n",
    "        result += commands[count].value\n",
    "        count += 1\n",
    "    elif commands[count].name == \"jmp\":\n",
    "        count += commands[count].value\n",
    "    elif commands[count].name == \"nop\":\n",
    "        count += 1\n",
    "    else:\n",
    "        print(\"Ooops\")\n",
    "\n",
    "print(result)\n",
    "    #print(entry.value)"
   ]
  },
  {
   "cell_type": "code",
   "execution_count": 23,
   "metadata": {},
   "outputs": [
    {
     "ename": "KeyboardInterrupt",
     "evalue": "",
     "output_type": "error",
     "traceback": [
      "\u001b[1;31m---------------------------------------------------------------------------\u001b[0m",
      "\u001b[1;31mKeyboardInterrupt\u001b[0m                         Traceback (most recent call last)",
      "\u001b[1;32m<ipython-input-23-4fc715738fbf>\u001b[0m in \u001b[0;36m<module>\u001b[1;34m\u001b[0m\n\u001b[0;32m     42\u001b[0m     \u001b[0mcommands\u001b[0m \u001b[1;33m=\u001b[0m \u001b[0mcommands_org\u001b[0m\u001b[1;33m.\u001b[0m\u001b[0mcopy\u001b[0m\u001b[1;33m(\u001b[0m\u001b[1;33m)\u001b[0m\u001b[1;33m\u001b[0m\u001b[1;33m\u001b[0m\u001b[0m\n\u001b[0;32m     43\u001b[0m \u001b[1;33m\u001b[0m\u001b[0m\n\u001b[1;32m---> 44\u001b[1;33m     \u001b[0mnextFoundPos\u001b[0m \u001b[1;33m=\u001b[0m \u001b[0mfindJmpNop\u001b[0m\u001b[1;33m(\u001b[0m\u001b[0mcommands\u001b[0m\u001b[1;33m,\u001b[0m \u001b[0mnextFound\u001b[0m\u001b[1;33m)\u001b[0m\u001b[1;33m\u001b[0m\u001b[1;33m\u001b[0m\u001b[0m\n\u001b[0m\u001b[0;32m     45\u001b[0m     \u001b[1;32mif\u001b[0m\u001b[1;33m(\u001b[0m\u001b[0mnextFoundPos\u001b[0m \u001b[1;33m==\u001b[0m \u001b[1;33m-\u001b[0m\u001b[1;36m1\u001b[0m\u001b[1;33m)\u001b[0m\u001b[1;33m:\u001b[0m\u001b[1;33m\u001b[0m\u001b[1;33m\u001b[0m\u001b[0m\n\u001b[0;32m     46\u001b[0m         \u001b[0mprint\u001b[0m\u001b[1;33m(\u001b[0m\u001b[1;34m\"not solveable\"\u001b[0m\u001b[1;33m)\u001b[0m\u001b[1;33m\u001b[0m\u001b[1;33m\u001b[0m\u001b[0m\n",
      "\u001b[1;32m<ipython-input-23-4fc715738fbf>\u001b[0m in \u001b[0;36mfindJmpNop\u001b[1;34m(commands, counter)\u001b[0m\n\u001b[0;32m     12\u001b[0m         \u001b[1;32mif\u001b[0m\u001b[1;33m(\u001b[0m\u001b[0mcounterIntern\u001b[0m \u001b[1;33m>=\u001b[0m \u001b[0mcounter\u001b[0m\u001b[1;33m)\u001b[0m\u001b[1;33m:\u001b[0m\u001b[1;33m\u001b[0m\u001b[1;33m\u001b[0m\u001b[0m\n\u001b[0;32m     13\u001b[0m             \u001b[1;32mreturn\u001b[0m \u001b[0mposition\u001b[0m\u001b[1;33m\u001b[0m\u001b[1;33m\u001b[0m\u001b[0m\n\u001b[1;32m---> 14\u001b[1;33m         \u001b[0mposition\u001b[0m \u001b[1;33m+=\u001b[0m \u001b[1;36m1\u001b[0m\u001b[1;33m\u001b[0m\u001b[1;33m\u001b[0m\u001b[0m\n\u001b[0m\u001b[0;32m     15\u001b[0m     \u001b[0mprint\u001b[0m\u001b[1;33m(\u001b[0m\u001b[1;34m'nothing found'\u001b[0m\u001b[1;33m)\u001b[0m\u001b[1;33m\u001b[0m\u001b[1;33m\u001b[0m\u001b[0m\n\u001b[0;32m     16\u001b[0m     \u001b[1;32mreturn\u001b[0m \u001b[1;33m-\u001b[0m\u001b[1;36m1\u001b[0m\u001b[1;33m\u001b[0m\u001b[1;33m\u001b[0m\u001b[0m\n",
      "\u001b[1;31mKeyboardInterrupt\u001b[0m: "
     ]
    }
   ],
   "source": [
    "# Task 2\n",
    "\n",
    "def findJmpNop(commands, counter):\n",
    "    counterIntern = 0\n",
    "    position = 0\n",
    "    if counter <=0:\n",
    "        print('counter to small')\n",
    "        return -1    \n",
    "    for ele in commands:\n",
    "        if(ele.name =='jmp' or ele.name =='nop'):\n",
    "            counterIntern += 1\n",
    "        if(counterIntern >= counter):\n",
    "            return position\n",
    "        position += 1\n",
    "    print('nothing found')\n",
    "    return -1\n",
    "\n",
    "class Instruction:\n",
    "    def __init__(self, name, value):\n",
    "        self.name = name\n",
    "        self.value = value\n",
    "        self.visited = False\n",
    "\n",
    "#code starts here        \n",
    "\n",
    "file = open('day_8_input.txt')\n",
    "\n",
    "commands_org = []\n",
    "\n",
    "for line in file:\n",
    "    a = line.split()\n",
    "    commands_org.append(Instruction(a[0], int(a[1])))\n",
    "\n",
    "    \n",
    "resultFound = False\n",
    "nextFound = 0\n",
    "commands = []\n",
    "\n",
    "while (not(resultFound)):\n",
    "    nextFound =+1\n",
    "    commands.clear()\n",
    "    commands = commands_org.copy()\n",
    "    \n",
    "    nextFoundPos = findJmpNop(commands, nextFound)\n",
    "    if(nextFoundPos == -1):\n",
    "        print(\"not solveable\")\n",
    "        break\n",
    "    if(commands[nextFoundPos].name == \"jmp\"):\n",
    "        commands[nextFoundPos].name= \"nop\"\n",
    "    elif commands[nextFoundPos].name == \"nop\":\n",
    "        commands[nextFoundPos].name= \"jmp\"\n",
    "    else:\n",
    "        print('false position', nextFoundPos, commands[nextFoundPos].name)\n",
    "        break\n",
    "    count = 0\n",
    "    result = 0\n",
    "    resultFound = True\n",
    "    while (len(commands)>count):\n",
    "        if commands[count].visited != True:\n",
    "            commands[count].visited = True\n",
    "        else:\n",
    "            resultFound =False\n",
    "            break\n",
    "        if commands[count].name == \"acc\":\n",
    "            result += commands[count].value\n",
    "            count += 1\n",
    "        elif commands[count].name == \"jmp\":\n",
    "            count += commands[count].value\n",
    "        elif commands[count].name == \"nop\":\n",
    "            count += 1\n",
    "        else:\n",
    "            print(\"Ooops\")\n",
    "        if count<0:\n",
    "            resultFound =False\n",
    "            break\n",
    "            \n",
    "\n",
    "print(result)\n",
    "print(nextFoundPos)\n",
    "    #print(entry.value)"
   ]
  },
  {
   "cell_type": "code",
   "execution_count": 24,
   "metadata": {},
   "outputs": [
    {
     "data": {
      "text/plain": [
       "591"
      ]
     },
     "execution_count": 24,
     "metadata": {},
     "output_type": "execute_result"
    }
   ],
   "source": [
    "len(commands)"
   ]
  },
  {
   "cell_type": "code",
   "execution_count": null,
   "metadata": {},
   "outputs": [],
   "source": []
  }
 ],
 "metadata": {
  "kernelspec": {
   "display_name": "Python 3",
   "language": "python",
   "name": "python3"
  },
  "language_info": {
   "codemirror_mode": {
    "name": "ipython",
    "version": 3
   },
   "file_extension": ".py",
   "mimetype": "text/x-python",
   "name": "python",
   "nbconvert_exporter": "python",
   "pygments_lexer": "ipython3",
   "version": "3.7.3"
  }
 },
 "nbformat": 4,
 "nbformat_minor": 2
}

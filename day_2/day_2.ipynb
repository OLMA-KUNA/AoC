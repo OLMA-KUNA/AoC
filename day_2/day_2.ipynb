{
 "cells": [
  {
   "cell_type": "code",
   "execution_count": 19,
   "metadata": {},
   "outputs": [],
   "source": [
    "import re\n",
    "import csv"
   ]
  },
  {
   "cell_type": "code",
   "execution_count": 44,
   "metadata": {},
   "outputs": [],
   "source": [
    "class Words:\n",
    "    def __init__(self, num1, num2, char, str_):\n",
    "        self.num1 = num1\n",
    "        self.num2 = num2\n",
    "        self.char = char\n",
    "        self.str_ = str_\n",
    "    \n",
    "    def new_valid(self):\n",
    "        if (self.str_[self.num1-1] == self.char) != (self.str_[self.num2-1] == self.char):\n",
    "            return True\n",
    "        else:\n",
    "            return False\n",
    "    \n",
    "    def is_valid(self):\n",
    "        count = len(re.findall(self.char, self.str_))\n",
    "        if count >= self.num1 and count <= self.num2:\n",
    "            return True\n",
    "        else:\n",
    "            return False"
   ]
  },
  {
   "cell_type": "code",
   "execution_count": 35,
   "metadata": {},
   "outputs": [],
   "source": [
    "file = 'passwords.txt'\n",
    "with open(file, encoding='utf-8') as read_obj:\n",
    "    with open('passsword.new', 'w+') as o:\n",
    "        for line in read_obj:\n",
    "            a = line.replace('-', ';')\n",
    "            a = a.replace(': ', ';')\n",
    "            a = a.replace(' ',';')\n",
    "            o.write(a)\n",
    "            "
   ]
  },
  {
   "cell_type": "code",
   "execution_count": 52,
   "metadata": {},
   "outputs": [
    {
     "name": "stdout",
     "output_type": "stream",
     "text": [
      "Star one:  591\n"
     ]
    }
   ],
   "source": [
    "with open ('passsword.new', 'r') as f:\n",
    "    count_valid = 0\n",
    "    for row in csv.reader(f,delimiter=';'):\n",
    "        a1 = Words(int(row[0]), int(row[1]), row[2], row[3])\n",
    "        if a1.is_valid():\n",
    "            count_valid += 1\n",
    "      \n",
    "\n",
    "print(\"Star one: \", count_valid)"
   ]
  },
  {
   "cell_type": "code",
   "execution_count": 50,
   "metadata": {},
   "outputs": [
    {
     "name": "stdout",
     "output_type": "stream",
     "text": [
      "Star two:  335\n"
     ]
    }
   ],
   "source": [
    "with open ('passsword.new', 'r') as f:\n",
    "    count_valid = 0\n",
    "    for row in csv.reader(f,delimiter=';'):\n",
    "        a1 = Words(int(row[0]), int(row[1]), row[2], row[3])\n",
    "        if a1.new_valid():\n",
    "            count_valid += 1\n",
    "            \n",
    "print (\"Star two: \", count_valid)"
   ]
  },
  {
   "cell_type": "code",
   "execution_count": null,
   "metadata": {},
   "outputs": [],
   "source": []
  }
 ],
 "metadata": {
  "kernelspec": {
   "display_name": "Python 3",
   "language": "python",
   "name": "python3"
  },
  "language_info": {
   "codemirror_mode": {
    "name": "ipython",
    "version": 3
   },
   "file_extension": ".py",
   "mimetype": "text/x-python",
   "name": "python",
   "nbconvert_exporter": "python",
   "pygments_lexer": "ipython3",
   "version": "3.7.3"
  }
 },
 "nbformat": 4,
 "nbformat_minor": 2
}
